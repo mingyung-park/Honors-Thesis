{
  "nbformat": 4,
  "nbformat_minor": 0,
  "metadata": {
    "colab": {
      "provenance": [],
      "mount_file_id": "1F-xiknt1cWCtD4jb2k2obV_pQdGXMSI3",
      "authorship_tag": "ABX9TyNdy4UeaIAaATTjpw3xJyvt",
      "include_colab_link": true
    },
    "kernelspec": {
      "name": "python3",
      "display_name": "Python 3"
    },
    "language_info": {
      "name": "python"
    }
  },
  "cells": [
    {
      "cell_type": "markdown",
      "metadata": {
        "id": "view-in-github",
        "colab_type": "text"
      },
      "source": [
        "<a href=\"https://colab.research.google.com/github/mingyung-park/Honors-Thesis/blob/pre-experiment-checks/experiments/pre-checks/test_LE_modul.ipynb\" target=\"_parent\"><img src=\"https://colab.research.google.com/assets/colab-badge.svg\" alt=\"Open In Colab\"/></a>"
      ]
    },
    {
      "cell_type": "code",
      "source": [
        "!pip install datasets\n",
        "!pip install huggingface_hub\n",
        "!pip install svgling"
      ],
      "metadata": {
        "colab": {
          "base_uri": "https://localhost:8080/"
        },
        "id": "QB2-KZYWpuJo",
        "outputId": "8aa2f717-07fb-471c-fd8a-1990efc776e2"
      },
      "execution_count": null,
      "outputs": [
        {
          "output_type": "stream",
          "name": "stdout",
          "text": [
            "Requirement already satisfied: datasets in /usr/local/lib/python3.10/dist-packages (3.0.2)\n",
            "Requirement already satisfied: filelock in /usr/local/lib/python3.10/dist-packages (from datasets) (3.16.1)\n",
            "Requirement already satisfied: numpy>=1.17 in /usr/local/lib/python3.10/dist-packages (from datasets) (1.26.4)\n",
            "Requirement already satisfied: pyarrow>=15.0.0 in /usr/local/lib/python3.10/dist-packages (from datasets) (16.1.0)\n",
            "Requirement already satisfied: dill<0.3.9,>=0.3.0 in /usr/local/lib/python3.10/dist-packages (from datasets) (0.3.8)\n",
            "Requirement already satisfied: pandas in /usr/local/lib/python3.10/dist-packages (from datasets) (2.2.2)\n",
            "Requirement already satisfied: requests>=2.32.2 in /usr/local/lib/python3.10/dist-packages (from datasets) (2.32.3)\n",
            "Requirement already satisfied: tqdm>=4.66.3 in /usr/local/lib/python3.10/dist-packages (from datasets) (4.66.5)\n",
            "Requirement already satisfied: xxhash in /usr/local/lib/python3.10/dist-packages (from datasets) (3.5.0)\n",
            "Requirement already satisfied: multiprocess<0.70.17 in /usr/local/lib/python3.10/dist-packages (from datasets) (0.70.16)\n",
            "Requirement already satisfied: fsspec<=2024.9.0,>=2023.1.0 in /usr/local/lib/python3.10/dist-packages (from fsspec[http]<=2024.9.0,>=2023.1.0->datasets) (2024.6.1)\n",
            "Requirement already satisfied: aiohttp in /usr/local/lib/python3.10/dist-packages (from datasets) (3.10.10)\n",
            "Requirement already satisfied: huggingface-hub>=0.23.0 in /usr/local/lib/python3.10/dist-packages (from datasets) (0.24.7)\n",
            "Requirement already satisfied: packaging in /usr/local/lib/python3.10/dist-packages (from datasets) (24.1)\n",
            "Requirement already satisfied: pyyaml>=5.1 in /usr/local/lib/python3.10/dist-packages (from datasets) (6.0.2)\n",
            "Requirement already satisfied: aiohappyeyeballs>=2.3.0 in /usr/local/lib/python3.10/dist-packages (from aiohttp->datasets) (2.4.3)\n",
            "Requirement already satisfied: aiosignal>=1.1.2 in /usr/local/lib/python3.10/dist-packages (from aiohttp->datasets) (1.3.1)\n",
            "Requirement already satisfied: attrs>=17.3.0 in /usr/local/lib/python3.10/dist-packages (from aiohttp->datasets) (24.2.0)\n",
            "Requirement already satisfied: frozenlist>=1.1.1 in /usr/local/lib/python3.10/dist-packages (from aiohttp->datasets) (1.4.1)\n",
            "Requirement already satisfied: multidict<7.0,>=4.5 in /usr/local/lib/python3.10/dist-packages (from aiohttp->datasets) (6.1.0)\n",
            "Requirement already satisfied: yarl<2.0,>=1.12.0 in /usr/local/lib/python3.10/dist-packages (from aiohttp->datasets) (1.16.0)\n",
            "Requirement already satisfied: async-timeout<5.0,>=4.0 in /usr/local/lib/python3.10/dist-packages (from aiohttp->datasets) (4.0.3)\n",
            "Requirement already satisfied: typing-extensions>=3.7.4.3 in /usr/local/lib/python3.10/dist-packages (from huggingface-hub>=0.23.0->datasets) (4.12.2)\n",
            "Requirement already satisfied: charset-normalizer<4,>=2 in /usr/local/lib/python3.10/dist-packages (from requests>=2.32.2->datasets) (3.4.0)\n",
            "Requirement already satisfied: idna<4,>=2.5 in /usr/local/lib/python3.10/dist-packages (from requests>=2.32.2->datasets) (3.10)\n",
            "Requirement already satisfied: urllib3<3,>=1.21.1 in /usr/local/lib/python3.10/dist-packages (from requests>=2.32.2->datasets) (2.2.3)\n",
            "Requirement already satisfied: certifi>=2017.4.17 in /usr/local/lib/python3.10/dist-packages (from requests>=2.32.2->datasets) (2024.8.30)\n",
            "Requirement already satisfied: python-dateutil>=2.8.2 in /usr/local/lib/python3.10/dist-packages (from pandas->datasets) (2.8.2)\n",
            "Requirement already satisfied: pytz>=2020.1 in /usr/local/lib/python3.10/dist-packages (from pandas->datasets) (2024.2)\n",
            "Requirement already satisfied: tzdata>=2022.7 in /usr/local/lib/python3.10/dist-packages (from pandas->datasets) (2024.2)\n",
            "Requirement already satisfied: six>=1.5 in /usr/local/lib/python3.10/dist-packages (from python-dateutil>=2.8.2->pandas->datasets) (1.16.0)\n",
            "Requirement already satisfied: propcache>=0.2.0 in /usr/local/lib/python3.10/dist-packages (from yarl<2.0,>=1.12.0->aiohttp->datasets) (0.2.0)\n",
            "Requirement already satisfied: huggingface_hub in /usr/local/lib/python3.10/dist-packages (0.24.7)\n",
            "Requirement already satisfied: filelock in /usr/local/lib/python3.10/dist-packages (from huggingface_hub) (3.16.1)\n",
            "Requirement already satisfied: fsspec>=2023.5.0 in /usr/local/lib/python3.10/dist-packages (from huggingface_hub) (2024.6.1)\n",
            "Requirement already satisfied: packaging>=20.9 in /usr/local/lib/python3.10/dist-packages (from huggingface_hub) (24.1)\n",
            "Requirement already satisfied: pyyaml>=5.1 in /usr/local/lib/python3.10/dist-packages (from huggingface_hub) (6.0.2)\n",
            "Requirement already satisfied: requests in /usr/local/lib/python3.10/dist-packages (from huggingface_hub) (2.32.3)\n",
            "Requirement already satisfied: tqdm>=4.42.1 in /usr/local/lib/python3.10/dist-packages (from huggingface_hub) (4.66.5)\n",
            "Requirement already satisfied: typing-extensions>=3.7.4.3 in /usr/local/lib/python3.10/dist-packages (from huggingface_hub) (4.12.2)\n",
            "Requirement already satisfied: charset-normalizer<4,>=2 in /usr/local/lib/python3.10/dist-packages (from requests->huggingface_hub) (3.4.0)\n",
            "Requirement already satisfied: idna<4,>=2.5 in /usr/local/lib/python3.10/dist-packages (from requests->huggingface_hub) (3.10)\n",
            "Requirement already satisfied: urllib3<3,>=1.21.1 in /usr/local/lib/python3.10/dist-packages (from requests->huggingface_hub) (2.2.3)\n",
            "Requirement already satisfied: certifi>=2017.4.17 in /usr/local/lib/python3.10/dist-packages (from requests->huggingface_hub) (2024.8.30)\n",
            "Requirement already satisfied: svgling in /usr/local/lib/python3.10/dist-packages (0.5.0)\n",
            "Requirement already satisfied: svgwrite in /usr/local/lib/python3.10/dist-packages (from svgling) (1.4.3)\n"
          ]
        }
      ]
    },
    {
      "cell_type": "code",
      "source": [
        "from huggingface_hub import login\n",
        "from datasets import load_dataset\n",
        "dataset = load_dataset(\"yuan-yang/MALLS-v0\")\n",
        "dataset"
      ],
      "metadata": {
        "colab": {
          "base_uri": "https://localhost:8080/"
        },
        "id": "-u4nvPNXpwdK",
        "outputId": "5edb82c5-c24b-4d00-f8be-a311f4eb15b7"
      },
      "execution_count": null,
      "outputs": [
        {
          "output_type": "stream",
          "name": "stderr",
          "text": [
            "/usr/local/lib/python3.10/dist-packages/huggingface_hub/utils/_token.py:89: UserWarning: \n",
            "The secret `HF_TOKEN` does not exist in your Colab secrets.\n",
            "To authenticate with the Hugging Face Hub, create a token in your settings tab (https://huggingface.co/settings/tokens), set it as secret in your Google Colab and restart your session.\n",
            "You will be able to reuse this secret in all of your notebooks.\n",
            "Please note that authentication is recommended but still optional to access public models or datasets.\n",
            "  warnings.warn(\n"
          ]
        },
        {
          "output_type": "execute_result",
          "data": {
            "text/plain": [
              "DatasetDict({\n",
              "    train: Dataset({\n",
              "        features: ['FOL', 'NL'],\n",
              "        num_rows: 27284\n",
              "    })\n",
              "    test: Dataset({\n",
              "        features: ['FOL', 'NL'],\n",
              "        num_rows: 1000\n",
              "    })\n",
              "})"
            ]
          },
          "metadata": {},
          "execution_count": 2
        }
      ]
    },
    {
      "cell_type": "code",
      "source": [
        "%cd /content/drive/MyDrive/독립연구/codes\n",
        "from parser import parse_fol_expression"
      ],
      "metadata": {
        "colab": {
          "base_uri": "https://localhost:8080/"
        },
        "id": "sF7kcHD8pwWD",
        "outputId": "d8b0d9e5-22f0-4c92-8dc0-4020947527ff"
      },
      "execution_count": null,
      "outputs": [
        {
          "output_type": "stream",
          "name": "stdout",
          "text": [
            "/content/drive/MyDrive/독립연구/codes\n"
          ]
        }
      ]
    },
    {
      "cell_type": "code",
      "source": [
        "import numpy as np\n",
        "from nltk.tree import Tree\n",
        "from vec_rule_evaluator import VecRuleEvaluator\n",
        "from parser import parse_fol_expression\n",
        "\n",
        "# Test function for enumerate_bindings_with_greedy_match\n",
        "def test_enumerate_bindings_with_greedy_match():\n",
        "    ls1 = [\"P(a)\", \"Q(b)\"]\n",
        "    ls2 = [\"P(a)\", \"Q(b)\", \"R(c)\"]\n",
        "    results = list(VecRuleEvaluator.enumerate_bindings_with_greedy_match(ls1, ls2, top_n=1))\n",
        "\n",
        "    assert len(results) == 1, \"There should be exactly one result.\"\n",
        "    assert results[0] == [0, 1], f\"Expected binding [0, 1], but got {results[0]}\"\n",
        "    print(\"test_enumerate_bindings_with_greedy_match passed.\")\n",
        "\n",
        "def test_enumerate_bindings_with_greedy_match():\n",
        "    ls1 = [\"P(a)\", \"Q(b)\"]\n",
        "    ls2 = [\"P(a)\", \"Q(b)\", \"R(c)\"]\n",
        "    results = list(VecRuleEvaluator.enumerate_bindings_with_greedy_match(ls1, ls2, top_n=1))\n",
        "\n",
        "    assert len(results) == 1, \"There should be exactly one result.\"\n",
        "    assert results[0] == [0, 1], f\"Expected binding [0, 1], but got {results[0]}\"\n",
        "    print(\"test_enumerate_bindings_with_greedy_match passed.\")\n",
        "\n",
        "# Test function for find_inputs\n",
        "def test_find_inputs():\n",
        "    fol_expression = \"∀x (P(x) ∧ Q(x) ∧ ¬R(x))\"\n",
        "    trees = parse_fol_expression(fol_expression)\n",
        "\n",
        "    # Use the first tree from the parsed results\n",
        "    tree = trees[0]\n",
        "    input_set = set()\n",
        "    VecRuleEvaluator.find_inputs(tree, input_set)\n",
        "\n",
        "    expected_set = {\"P(x)\", \"Q(x)\", \"R(x)\"}\n",
        "    assert input_set == expected_set, f\"Expected {expected_set}, but got {input_set}\"\n",
        "    print(\"test_find_inputs passed.\")\n",
        "\n",
        "# Test function for from_nltk_tree\n",
        "def test_from_nltk_tree():\n",
        "    fol_expression = \"P(a)\"\n",
        "    trees = parse_fol_expression(fol_expression)\n",
        "\n",
        "    # Use the first tree from the parsed results\n",
        "    tree = trees[0]\n",
        "    name2ind_dict = {\"P(a)\": 0}\n",
        "    input_vecs = np.array([[True], [False]])\n",
        "    result = VecRuleEvaluator.from_nltk_tree(tree, name2ind_dict, input_vecs)\n",
        "\n",
        "    assert np.array_equal(result, input_vecs[:, 0]), \"Tree evaluation result is incorrect.\"\n",
        "    print(\"test_from_nltk_tree passed.\")\n",
        "\n",
        "# Test function for find_best_LE_score\n",
        "def test_find_best_LE_score():\n",
        "    fol_expression1 = \"P(b)\"\n",
        "    fol_expression2 = \"P(a)\"\n",
        "\n",
        "    trees1 = parse_fol_expression(fol_expression1)\n",
        "    trees2 = parse_fol_expression(fol_expression2)\n",
        "\n",
        "    score, true_inputs, best_binded_pred_inputs = VecRuleEvaluator.find_best_LE_score(\n",
        "        trees1[0], trees2[0], soft_binding=False, greedy_match=True, top_n=1, verbose=False\n",
        "    )\n",
        "\n",
        "    assert score == 1.0, f\"Expected score to be 1.0, but got {score}\"\n",
        "    assert true_inputs == [\"P(b)\"], f\"Expected true inputs to be ['P(b)'], but got {true_inputs}\"\n",
        "    assert best_binded_pred_inputs == [\"P(a)\"], f\"Expected best binded inputs to be ['P(a)'], but got {best_binded_pred_inputs}\"\n",
        "    print(\"test_find_best_LE_score passed.\")\n",
        "\n",
        "test_enumerate_bindings_with_greedy_match()\n",
        "test_find_inputs()\n",
        "\n",
        "test_from_nltk_tree()\n",
        "test_find_best_LE_score()\n"
      ],
      "metadata": {
        "colab": {
          "base_uri": "https://localhost:8080/"
        },
        "id": "iB62JMmN2piG",
        "outputId": "aa57bf21-ddd1-4e7c-e565-a9c9cf8c61e4"
      },
      "execution_count": null,
      "outputs": [
        {
          "output_type": "stream",
          "name": "stdout",
          "text": [
            "test_enumerate_bindings_with_greedy_match passed.\n",
            "test_find_inputs passed.\n",
            "test_from_nltk_tree passed.\n",
            "test_find_best_LE_score passed.\n"
          ]
        }
      ]
    }
  ]
}